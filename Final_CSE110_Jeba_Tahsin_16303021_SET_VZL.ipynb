{
  "nbformat": 4,
  "nbformat_minor": 0,
  "metadata": {
    "colab": {
      "name": "Final_CSE110_Jeba Tahsin_16303021_SET_VZL.ipynb",
      "provenance": [],
      "collapsed_sections": [],
      "include_colab_link": true
    },
    "kernelspec": {
      "display_name": "Python 3",
      "language": "python",
      "name": "python3"
    },
    "language_info": {
      "codemirror_mode": {
        "name": "ipython",
        "version": 3
      },
      "file_extension": ".py",
      "mimetype": "text/x-python",
      "name": "python",
      "nbconvert_exporter": "python",
      "pygments_lexer": "ipython3",
      "version": "3.7.6"
    }
  },
  "cells": [
    {
      "cell_type": "markdown",
      "metadata": {
        "id": "view-in-github",
        "colab_type": "text"
      },
      "source": [
        "<a href=\"https://colab.research.google.com/github/Sakibapon/BRAC/blob/master/Final_CSE110_Jeba_Tahsin_16303021_SET_VZL.ipynb\" target=\"_parent\"><img src=\"https://colab.research.google.com/assets/colab-badge.svg\" alt=\"Open In Colab\"/></a>"
      ]
    },
    {
      "cell_type": "markdown",
      "metadata": {
        "id": "FHoSAZwz-x9Y"
      },
      "source": [
        "# SUMMER 2020\n",
        "\n",
        "# CSE110 FINAL EXAM\n",
        "**<font color='red'>[MUST MAINTAIN VARIABLE NAMING CONVENTIONS FOR ALL THE TASKS]</font>**\n",
        "\n",
        "**<font color='red'>[Writing comments(explanatory sentences) in any of the code is completely optional]</font>**"
      ]
    },
    {
      "cell_type": "markdown",
      "metadata": {
        "id": "y1OxALe74ONI"
      },
      "source": [
        "# Task 01\n",
        "\n",
        "Take an input from the user, N,  and that input signifies the number of inputs to be taken further from the user. Then take N number of integer inputs from the user. Then you have to calculate the following of these from the N integer inputs.\n",
        "\n",
        "<font color='red'> [You are not allowed to use the sum(), max(), min(), mean() functions]</font>\n",
        "\n",
        "<font color='red'> [You are allowed to use the count() function]</font>\n",
        "\n",
        "* Range (Highest Value - Lowest Value)\n",
        "* Mean (Sum of all values/Number of Values)\n",
        "* Mode (Highest occurring number in the N integer inputs )\n",
        "\n",
        "\n",
        "===========================================================\n",
        "\n",
        "**Sample Input 1 :**\\\n",
        "5\\\n",
        "1 2 2 3 4 \n",
        "\n",
        "**Sample Output**\\\n",
        "Range = 3 \n",
        "\n",
        "Mean = 2.4\n",
        "\n",
        "Mode = 2\n",
        "\n",
        "**Explanation:** \n",
        "Here, the maximum number is 4, minimum number is 1. Range = max-min=4-1=3. Mean = (sum of all the numbers)/total count of numbers = (1+2+2+3+4)/5 = 12/5 = 2.4. Lastly, 2 has occured maximum of 2 times. Hence, the mode is 2.\n",
        "\n",
        "\n",
        "=============================================================\n",
        "\n",
        "\n",
        "\n",
        "**Sample Input 1 :**\\\n",
        "2\\\n",
        "1\n",
        "1 \n",
        "\n",
        "**Sample Output**\\\n",
        "Range = 0\n",
        "\n",
        "Mean = 1.0\n",
        "\n",
        "Mode = 2\n",
        "\n",
        "**Explanation:** \n",
        "Here, the maximum number is 1, minimum number is 1. Range = max-min=1-1=0. Mean = (sum of all the numbers)/total count of numbers = (2)/2 = 1.0 . Lastly, 1 has occured maximum of 2 times. Hence, the mode is 2.\n",
        "\n",
        "\n",
        "\n",
        "\n",
        "\n",
        "\n",
        "\n"
      ]
    },
    {
      "cell_type": "code",
      "metadata": {
        "id": "3MZdDln-7ngl",
        "outputId": "c408d5ca-f9e3-4017-a727-e411311d6cb9",
        "colab": {
          "base_uri": "https://localhost:8080/",
          "height": 129
        }
      },
      "source": [
        "#task 1\n",
        "#to do\n",
        "def input_info(lst, i):\n",
        "    lst = [int(lst) for lst in input().split()]\n",
        "    print(input_no)\n",
        "    count = 0\n",
        "for i in lst:\n",
        "    if i > i+1:\n",
        "        i == max_val\n",
        "    elif i < i-1:\n",
        "        i == min_val\n",
        "    else:\n",
        "        max_val = i+1\n",
        "        min_val = i-1\n",
        "print(\"Range =\", (max_val-min_val))  \n",
        "for i in lst:\n",
        "    count += i \n",
        "print(\"Mean =\", (count/len(lst))\n",
        "for ele in lst:\n",
        "    if (ele == i):\n",
        "    count = count + 1\n",
        "print(\"Mode =\" , count)\n",
        "input_info(lst, i)\n"
      ],
      "execution_count": 43,
      "outputs": [
        {
          "output_type": "error",
          "ename": "SyntaxError",
          "evalue": "ignored",
          "traceback": [
            "\u001b[0;36m  File \u001b[0;32m\"<ipython-input-43-f7a4a63d1e59>\"\u001b[0;36m, line \u001b[0;32m19\u001b[0m\n\u001b[0;31m    for ele in lst:\u001b[0m\n\u001b[0m                  ^\u001b[0m\n\u001b[0;31mSyntaxError\u001b[0m\u001b[0;31m:\u001b[0m invalid syntax\n"
          ]
        }
      ]
    },
    {
      "cell_type": "code",
      "metadata": {
        "id": "G1BfK5qltj2O",
        "outputId": "f23437aa-5d85-4f3d-9aec-4ddf0a734a80",
        "colab": {
          "base_uri": "https://localhost:8080/",
          "height": 170
        }
      },
      "source": [
        "#solve\n",
        "size = int(input('Enter size: '))\n",
        "values = []\n",
        "for _ in range(size):\n",
        "    values.append(int(input('Enter a value: ')))\n",
        "def Range():\n",
        "  max=values[0]\n",
        "  min=values[0]\n",
        "  for i in values:\n",
        "      if i >max :\n",
        "          max=i\n",
        "      elif i < min:\n",
        "          min=i\n",
        "  print('Range = ',max-min)\n",
        "def FindingMean():\n",
        "  sum=0\n",
        "  count=0\n",
        "  for i in values:    \n",
        "    sum = sum + values[i];  \n",
        "    count=count+1\n",
        "  print(\"Mean =\",sum/count)\n",
        "def Mode(values): \n",
        "    counts = 0\n",
        "    num = values[0] \n",
        "    for i in values: \n",
        "        mode = values.count(i) \n",
        "        if(mode> counts): \n",
        "            counts = mode \n",
        "            num = i\n",
        "    print('Mode: ',num)  \n",
        "Range()\n",
        "FindingMean()\n",
        "Mode(values)"
      ],
      "execution_count": 100,
      "outputs": [
        {
          "output_type": "stream",
          "text": [
            "Enter size: 5\n",
            "Enter a value: 1\n",
            "Enter a value: 2\n",
            "Enter a value: 2\n",
            "Enter a value: 3\n",
            "Enter a value: 4\n",
            "Range =  3\n",
            "Mean = 2.6\n",
            "Mode:  2\n"
          ],
          "name": "stdout"
        }
      ]
    },
    {
      "cell_type": "markdown",
      "metadata": {
        "id": "VOjcZp3h6N7Z"
      },
      "source": [
        "# Task 02\n",
        "\n",
        "Write a Python program that takes a string as an input from the user. Then, counts the sum of the frequency of only three characters (‘C’, ‘S’, ‘E’) and counts the sum of the frequency all the characters excluding 'C', 'S', 'E', and any white spaces. Then prints the ratio of these two sums. \\\n",
        "<font color='red'> [You are not allowed to use the count() function]</font>\n",
        "\n",
        "\n",
        "*Hint: The case is ignored (P and p are considered the same).* \n",
        "\n",
        "\n",
        "===========================================================\n",
        "\n",
        "**Example1:**\n",
        "\n",
        "**Input:**\\\n",
        "\"This is my CSE110 final exam\"\n",
        "\n",
        "**Output:**\\\n",
        "The sum of the frequency of 'C', 'S', 'E': 6\\\n",
        "Letters excluding 'C', 'S', 'E' and space is: 17\\\n",
        "The ratio is: 2.8333333333333335\n",
        "\n",
        "**Explanation:** \\\n",
        "Here in the input string, ‘c’ has appeared 1 times, ‘e’ has appeared 2 times and ‘s’ has appeared 3 times. So, the sum of the frequency of 'C', 'S', 'E': 1+2+3= 6. Letters excluding 'C','S','E', and space are: 17.\\\n",
        "So the ratio is (sum of letters excluding 'C','S','E' and space)/( sum of the frequency of 'C','S','E')= 17/6= 2.8333333333333335\n",
        "\n",
        "==============================================================================\n",
        "\n",
        "**Example2:** \\\n",
        "Input:   \"There is no courage without the fear.\"\n",
        "\n",
        "**Output:** \\\n",
        "The sum of the frequency of 'C', 'S', 'E': 7\\\n",
        "Letters excluding 'C', 'S', 'E' and space is: 24\\\n",
        "The ratio is: 3.4285714285714284\n",
        "\n",
        "**Explanation:** \\\n",
        "Here in the input string, ‘c’ has appeared 1 time, ‘e’ has appeared 5 times and ‘s’ has appeared 1 time. So, the sum of the frequency of 'C', 'S', 'E': 1+5+1=7. Letters excluding 'C','S','E', and space are: 24. So the ratio is (sum of letters excluding 'C','S','E' and space)/( sum of the frequency of 'C','S','E')= 24/7= 3.4285714285714284\n",
        "\n"
      ]
    },
    {
      "cell_type": "code",
      "metadata": {
        "id": "9uJmC_di7mql",
        "outputId": "229a4bc1-6727-4b89-f624-323a5123ebe4",
        "colab": {
          "base_uri": "https://localhost:8080/",
          "height": 265
        }
      },
      "source": [
        "#task 2\n",
        "#to do\n",
        "my_str = input()\n",
        "count = 0\n",
        "c1 = 0\n",
        "c2 = 0\n",
        "c3 = 0\n",
        "c = \"C\"\n",
        "s = \"S\"\n",
        "e = \"E\"\n",
        "for i in my_str:\n",
        "    if (i == c):\n",
        "        c1 = count+1\n",
        "    elif (i == s):\n",
        "        c2 = count+1\n",
        "    elif (i == e):\n",
        "        c3 == count+1\n",
        "print(\"The sum of the frequency of 'C', 'S', 'E':\", c1+c2+c3)\n",
        "new_count = 0\n",
        "letter = my_string\n",
        "for i in letter:\n",
        "    new_count = i + 1\n",
        "print(new-count-(c1+c2+c3))\n",
        "\n",
        "\n",
        "            "
      ],
      "execution_count": 31,
      "outputs": [
        {
          "output_type": "stream",
          "text": [
            "There is no courage without the fear.\n",
            "The sum of the frequency of 'C', 'S', 'E': 0\n"
          ],
          "name": "stdout"
        },
        {
          "output_type": "error",
          "ename": "NameError",
          "evalue": "ignored",
          "traceback": [
            "\u001b[0;31m---------------------------------------------------------------------------\u001b[0m",
            "\u001b[0;31mNameError\u001b[0m                                 Traceback (most recent call last)",
            "\u001b[0;32m<ipython-input-31-c6dd18acaaea>\u001b[0m in \u001b[0;36m<module>\u001b[0;34m()\u001b[0m\n\u001b[1;32m     18\u001b[0m \u001b[0mprint\u001b[0m\u001b[0;34m(\u001b[0m\u001b[0;34m\"The sum of the frequency of 'C', 'S', 'E':\"\u001b[0m\u001b[0;34m,\u001b[0m \u001b[0mc1\u001b[0m\u001b[0;34m+\u001b[0m\u001b[0mc2\u001b[0m\u001b[0;34m+\u001b[0m\u001b[0mc3\u001b[0m\u001b[0;34m)\u001b[0m\u001b[0;34m\u001b[0m\u001b[0;34m\u001b[0m\u001b[0m\n\u001b[1;32m     19\u001b[0m \u001b[0mnew_count\u001b[0m \u001b[0;34m=\u001b[0m \u001b[0;36m0\u001b[0m\u001b[0;34m\u001b[0m\u001b[0;34m\u001b[0m\u001b[0m\n\u001b[0;32m---> 20\u001b[0;31m \u001b[0mletter\u001b[0m \u001b[0;34m=\u001b[0m \u001b[0mmy_string\u001b[0m\u001b[0;34m\u001b[0m\u001b[0;34m\u001b[0m\u001b[0m\n\u001b[0m\u001b[1;32m     21\u001b[0m \u001b[0;32mfor\u001b[0m \u001b[0mi\u001b[0m \u001b[0;32min\u001b[0m \u001b[0mletter\u001b[0m\u001b[0;34m:\u001b[0m\u001b[0;34m\u001b[0m\u001b[0;34m\u001b[0m\u001b[0m\n\u001b[1;32m     22\u001b[0m     \u001b[0mnew_count\u001b[0m \u001b[0;34m=\u001b[0m \u001b[0mi\u001b[0m \u001b[0;34m+\u001b[0m \u001b[0;36m1\u001b[0m\u001b[0;34m\u001b[0m\u001b[0;34m\u001b[0m\u001b[0m\n",
            "\u001b[0;31mNameError\u001b[0m: name 'my_string' is not defined"
          ]
        }
      ]
    },
    {
      "cell_type": "code",
      "metadata": {
        "id": "jBZ4_LP7seVg",
        "outputId": "d5647e37-0993-4f46-8cec-c956664739b5",
        "colab": {
          "base_uri": "https://localhost:8080/",
          "height": 85
        }
      },
      "source": [
        "#solve\n",
        "my_str = input()\n",
        "count = 0\n",
        "for i in my_str:\n",
        "    if (i == 'c' or i=='C'):\n",
        "        count=count+1\n",
        "    elif (i == 's' or i=='S'):\n",
        "        count=count+1\n",
        "    elif (i == 'e' or i=='E'):\n",
        "        count=count+1\n",
        "print(\"The sum of the frequency of 'C', 'S', 'E':\", count)\n",
        "newcount=1\n",
        "for i in my_str:\n",
        "    if (i== ' '):\n",
        "      pass\n",
        "    elif (i == 'c' or i=='C'):\n",
        "      pass\n",
        "    elif (i == 's' or i=='S'):\n",
        "      pass\n",
        "    elif (i == 'e' or i=='E'):\n",
        "      pass\n",
        "    else:\n",
        "      newcount=newcount+1\n",
        "print('Letters excluding C S E and space is: ',newcount)\n",
        "print('The ratio is: ',newcount/count)"
      ],
      "execution_count": 40,
      "outputs": [
        {
          "output_type": "stream",
          "text": [
            "There is no courage without the fear\n",
            "The sum of the frequency of 'C', 'S', 'E': 7\n",
            "Letters excluding C S E and space is:  24\n",
            "The ratio is:  3.4285714285714284\n"
          ],
          "name": "stdout"
        }
      ]
    },
    {
      "cell_type": "markdown",
      "metadata": {
        "id": "punAKiNF87E8"
      },
      "source": [
        "# Task 03\n",
        "\n",
        "\n",
        "Write a function which takes in a dictionary as an input. The keys will be the name of the courses that you had taken in the previous semester. It can be any number of courses but it will always be more than 3. And the corresponding values will be the total marks that you had got out of 100. The values can never be negative. Now calculate the average mark that you had achieved in the last semester. Your function will **return** the string “Highest distinction” or “High Distinction” or “No Distinction” based on the calculated average mark. What string will be returned will be based on the following criteria:\n",
        "\n",
        "* Condition 1 : If  80 <= average marks <= 100 , return \"Highest Distinction\"\n",
        "* Condition 2 : If  50 <= average marks <= 79 , return \"High Distinction\"\n",
        "* Condition 3 : If  0 <= average marks <= 49 , return \"No Distinction\"\n",
        "\n",
        "\n",
        "===========================================================\n",
        "\n",
        "\n",
        "**Example1:** \n",
        "\n",
        "**Input1:**<br>\n",
        "{'Bangla' : 90, 'English' : 90, 'Mathematics' : 94, 'Science' : 96 }\n",
        "\n",
        "**Function Call1:**\n",
        "Avg_Marks( {'Bangla' : 90, 'English' : 90, 'Mathematics' : 96, 'Science' : 96 } )\n",
        "\n",
        "**Output1:** \\\n",
        "Highest Distinction\n",
        "\n",
        "**Explanation1:** <br> \n",
        "Here, you had taken 4 courses in the previous semester and they are Bangla, English, Mathematics and Science. Out of a total 100 in each subject, you scored 90 in Bangla, 90 in English, 96 in Mathematics and 96 in Science. So the average mark of these 4 courses is 93. As the average mark satisfies Condition 1, that is the average is greater than or equal to 80 and less than or equal to 100, so the function will return the string \"Highest Distinction\".     \n",
        "\n",
        "===========================================================\n",
        "\n",
        "**Example2:** \n",
        "\n",
        "**Input2:**<br>\n",
        "{'Bangla' : 20, 'English' : 30, 'Mathematics' : 50, 'Science' : 30 }\n",
        "\n",
        "**Function Call1:**   \n",
        "Avg_Marks( {'Bangla' : 20, 'English' : 30, 'Mathematics' : 50, 'Science' : 30 } )\n",
        "\n",
        "**Output2:** \\\n",
        "\"No Distinction\"\n",
        "\n",
        "**Explanation2:** <br> \n",
        "Here suppose you had taken 4 courses in the previous semester and they are Bangla, English, Mathematics and Science. Out of a total 100 in each subject, you scored 20 in Bangla, 30 in English, 50 in Mathematics and 30 in Science. So the average mark of these 4 courses is 32.5. As the average mark satisfies Condition 3, so the function will return the string \"No Distinction\". \n",
        "\n",
        "\n",
        "===========================================================\n",
        "\n",
        "**Hint:** Average = sum of all the course marks / total number of courses"
      ]
    },
    {
      "cell_type": "code",
      "metadata": {
        "id": "McGQ17wl4Q1-"
      },
      "source": [
        "#task 3\n",
        "#to do\n",
        "dict = {}\n",
        "for values in dict:\n",
        "    sum_dict = sum(dict.values())\n",
        "    avg = sum_dict/(key.count())\n",
        "    if avg >= 80 or avg <= 100:\n",
        "        print(\"Highest Distinction\")\n",
        "    elif avg >= 50 or avg <=79:\n",
        "        print(\"High Distinction\")\n",
        "    else:\n",
        "        print(\"No Distinction\")\n",
        "            \n",
        "            "
      ],
      "execution_count": null,
      "outputs": []
    },
    {
      "cell_type": "code",
      "metadata": {
        "id": "Dljey6i6mW--",
        "outputId": "e0ffacc1-4d67-4905-88c1-a6ea1ced63b1",
        "colab": {
          "base_uri": "https://localhost:8080/",
          "height": 51
        }
      },
      "source": [
        "#solve\n",
        "D = {'Bangla': 20, 'English': 30 , 'Mathmetics':50,'science': 30}\n",
        "s=sum(D.values())\n",
        "def avg_marks(s):\n",
        "  A=s/4\n",
        "  print(A)\n",
        "  return A\n",
        "def distinction(A):\n",
        "  if A >= 80 and A <= 100:\n",
        "    print(\"Highest Distinction\")\n",
        "  elif A >= 50 and A <=79:\n",
        "    print(\"High Distinction\")\n",
        "  else:\n",
        "    print(\"No Distinction\")\n",
        "A=avg_marks(s)\n",
        "distinction(A)"
      ],
      "execution_count": 41,
      "outputs": [
        {
          "output_type": "stream",
          "text": [
            "32.5\n",
            "No Distinction\n"
          ],
          "name": "stdout"
        }
      ]
    }
  ]
}