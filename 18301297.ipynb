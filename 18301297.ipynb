# -*- coding: utf-8 -*-
"""
Created on Sun Sep 27 21:02:46 2020

@author: Sakib
"""

import sympy
from sympy import *
init_printing(use_unicode=True)
#t,e = symbols('t e') 
t = Symbol('t')
exps = (2*t) + (exp(t/2)/2) + (sinh(t+1))
pprint(simplify(exps))

trail1 = integrate(exps, t) 
print("Position: ",trail1.subs(t, 0.9))

print("Velocity= ",exps.subs(t,0.9))

trail2 = diff(exps, t) 
print("Acceleration: ",trail2.subs(t,0.9))

