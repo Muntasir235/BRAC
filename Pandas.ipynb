{
  "nbformat": 4,
  "nbformat_minor": 0,
  "metadata": {
    "colab": {
      "name": "Pandas.ipynb",
      "provenance": [],
      "include_colab_link": true
    },
    "kernelspec": {
      "name": "python3",
      "display_name": "Python 3"
    }
  },
  "cells": [
    {
      "cell_type": "markdown",
      "metadata": {
        "id": "view-in-github",
        "colab_type": "text"
      },
      "source": [
        "<a href=\"https://colab.research.google.com/github/Sakibapon/BRAC/blob/master/Pandas.ipynb\" target=\"_parent\"><img src=\"https://colab.research.google.com/assets/colab-badge.svg\" alt=\"Open In Colab\"/></a>"
      ]
    },
    {
      "cell_type": "markdown",
      "metadata": {
        "id": "hg58VeVCSTFy",
        "colab_type": "text"
      },
      "source": [
        "Reading files to create dataframes"
      ]
    },
    {
      "cell_type": "code",
      "metadata": {
        "id": "3PDm07FBHOzj",
        "colab_type": "code",
        "colab": {
          "base_uri": "https://localhost:8080/",
          "height": 156
        },
        "outputId": "dbb28c34-32ee-4a3e-e8e3-8ca0a7841c96"
      },
      "source": [
        "import pandas as pd\n",
        "df = pd.read_csv('/content/drive/My Drive/Colab Notebooks/pokemon_data.csv')\n",
        "print(df.head(5))"
      ],
      "execution_count": null,
      "outputs": [
        {
          "output_type": "stream",
          "text": [
            "   #                   Name Type 1  ... Speed  Generation  Legendary\n",
            "0  1              Bulbasaur  Grass  ...    45           1      False\n",
            "1  2                Ivysaur  Grass  ...    60           1      False\n",
            "2  3               Venusaur  Grass  ...    80           1      False\n",
            "3  3  VenusaurMega Venusaur  Grass  ...    80           1      False\n",
            "4  4             Charmander   Fire  ...    65           1      False\n",
            "\n",
            "[5 rows x 12 columns]\n"
          ],
          "name": "stdout"
        }
      ]
    },
    {
      "cell_type": "code",
      "metadata": {
        "id": "tl6nsiCqOK27",
        "colab_type": "code",
        "colab": {
          "base_uri": "https://localhost:8080/",
          "height": 156
        },
        "outputId": "cdeb2733-8a80-4c7f-970c-d6df86647dab"
      },
      "source": [
        "import pandas as pd\n",
        "df = pd.read_excel('pokemon_data.xlsx')\n",
        "print(df.head(5))"
      ],
      "execution_count": null,
      "outputs": [
        {
          "output_type": "stream",
          "text": [
            "   #                   Name Type 1  ... Speed  Generation  Legendary\n",
            "0  1              Bulbasaur  Grass  ...    45           1      False\n",
            "1  2                Ivysaur  Grass  ...    60           1      False\n",
            "2  3               Venusaur  Grass  ...    80           1      False\n",
            "3  3  VenusaurMega Venusaur  Grass  ...    80           1      False\n",
            "4  4             Charmander   Fire  ...    65           1      False\n",
            "\n",
            "[5 rows x 12 columns]\n"
          ],
          "name": "stdout"
        }
      ]
    },
    {
      "cell_type": "code",
      "metadata": {
        "id": "Y0KSI06iOhBv",
        "colab_type": "code",
        "colab": {
          "base_uri": "https://localhost:8080/",
          "height": 156
        },
        "outputId": "052b76fb-f639-4a5a-d668-32bdf56da60f"
      },
      "source": [
        "import pandas as pd\n",
        "df = pd.read_csv('pokemon_data.txt',delimiter='\\t')\n",
        "print(df.head(5))"
      ],
      "execution_count": null,
      "outputs": [
        {
          "output_type": "stream",
          "text": [
            "   #                   Name Type 1  ... Speed  Generation  Legendary\n",
            "0  1              Bulbasaur  Grass  ...    45           1      False\n",
            "1  2                Ivysaur  Grass  ...    60           1      False\n",
            "2  3               Venusaur  Grass  ...    80           1      False\n",
            "3  3  VenusaurMega Venusaur  Grass  ...    80           1      False\n",
            "4  4             Charmander   Fire  ...    65           1      False\n",
            "\n",
            "[5 rows x 12 columns]\n"
          ],
          "name": "stdout"
        }
      ]
    },
    {
      "cell_type": "markdown",
      "metadata": {
        "id": "TAypH-42SYno",
        "colab_type": "text"
      },
      "source": [
        "working with columns"
      ]
    },
    {
      "cell_type": "code",
      "metadata": {
        "id": "o1WFXt_-PXw0",
        "colab_type": "code",
        "colab": {
          "base_uri": "https://localhost:8080/",
          "height": 121
        },
        "outputId": "c1d22c1b-17ab-42c6-e1ac-9decd0eb81fc"
      },
      "source": [
        "import pandas as pd\n",
        "df = pd.read_csv('pokemon_data.csv')\n",
        "\n",
        "#print('Read headers')\n",
        "#print(df.columns)\n",
        "\n",
        "\n",
        "#print('Read a column')\n",
        "#print(df['Name'])\n",
        "\n",
        "print(df['Name'][0:5])"
      ],
      "execution_count": null,
      "outputs": [
        {
          "output_type": "stream",
          "text": [
            "0                Bulbasaur\n",
            "1                  Ivysaur\n",
            "2                 Venusaur\n",
            "3    VenusaurMega Venusaur\n",
            "4               Charmander\n",
            "Name: Name, dtype: object\n"
          ],
          "name": "stdout"
        }
      ]
    },
    {
      "cell_type": "code",
      "metadata": {
        "id": "_Oi_BnJlRA10",
        "colab_type": "code",
        "colab": {
          "base_uri": "https://localhost:8080/",
          "height": 121
        },
        "outputId": "5d053cc8-9591-4310-fcc0-def13017339f"
      },
      "source": [
        "import pandas as pd\n",
        "df = pd.read_csv('pokemon_data.csv')\n",
        "\n",
        "#print(df[['Name','Type 1','HP']][0:10])\n",
        "\n",
        "df2 = df[['Name','Type 1','HP']][0:10]\n",
        "print(df2.head(5))"
      ],
      "execution_count": null,
      "outputs": [
        {
          "output_type": "stream",
          "text": [
            "                    Name Type 1  HP\n",
            "0              Bulbasaur  Grass  45\n",
            "1                Ivysaur  Grass  60\n",
            "2               Venusaur  Grass  80\n",
            "3  VenusaurMega Venusaur  Grass  80\n",
            "4             Charmander   Fire  39\n"
          ],
          "name": "stdout"
        }
      ]
    },
    {
      "cell_type": "markdown",
      "metadata": {
        "id": "LW9hMIOWScL6",
        "colab_type": "text"
      },
      "source": [
        "working with rows"
      ]
    },
    {
      "cell_type": "markdown",
      "metadata": {
        "id": "DUX1unBl9dRx",
        "colab_type": "text"
      },
      "source": [
        ""
      ]
    },
    {
      "cell_type": "markdown",
      "metadata": {
        "id": "JUVGvvDs9cwf",
        "colab_type": "text"
      },
      "source": [
        ""
      ]
    },
    {
      "cell_type": "code",
      "metadata": {
        "id": "6K46IfiQR-13",
        "colab_type": "code",
        "colab": {
          "base_uri": "https://localhost:8080/",
          "height": 156
        },
        "outputId": "1bf773ab-cbb9-4b98-a2ec-67d65c69ef11"
      },
      "source": [
        "import pandas as pd\n",
        "df = pd.read_csv('pokemon_data.csv')\n",
        "#print(df.head(4))\n",
        "\n",
        "print(df.iloc[0:5])"
      ],
      "execution_count": null,
      "outputs": [
        {
          "output_type": "stream",
          "text": [
            "   #                   Name Type 1  ... Speed  Generation  Legendary\n",
            "0  1              Bulbasaur  Grass  ...    45           1      False\n",
            "1  2                Ivysaur  Grass  ...    60           1      False\n",
            "2  3               Venusaur  Grass  ...    80           1      False\n",
            "3  3  VenusaurMega Venusaur  Grass  ...    80           1      False\n",
            "4  4             Charmander   Fire  ...    65           1      False\n",
            "\n",
            "[5 rows x 12 columns]\n"
          ],
          "name": "stdout"
        }
      ]
    },
    {
      "cell_type": "markdown",
      "metadata": {
        "id": "GIxeWnnYTMfP",
        "colab_type": "text"
      },
      "source": [
        "Specific positions"
      ]
    },
    {
      "cell_type": "code",
      "metadata": {
        "id": "NcBf-MUlTPnD",
        "colab_type": "code",
        "colab": {
          "base_uri": "https://localhost:8080/",
          "height": 34
        },
        "outputId": "2409e10d-912f-4c73-a58c-87233cf42c50"
      },
      "source": [
        "import pandas as pd\n",
        "df = pd.read_csv('pokemon_data.csv')\n",
        "#print(df.head(6))\n",
        "\n",
        "print(df.iloc[2,1])"
      ],
      "execution_count": null,
      "outputs": [
        {
          "output_type": "stream",
          "text": [
            "Venusaur\n"
          ],
          "name": "stdout"
        }
      ]
    },
    {
      "cell_type": "markdown",
      "metadata": {
        "id": "heQjV26UT_UX",
        "colab_type": "text"
      },
      "source": [
        "Specific data"
      ]
    },
    {
      "cell_type": "code",
      "metadata": {
        "id": "SYRyesQVUBL_",
        "colab_type": "code",
        "colab": {
          "base_uri": "https://localhost:8080/",
          "height": 260
        },
        "outputId": "0a3de488-3ea8-414b-9f53-5171c9c51cee"
      },
      "source": [
        "import pandas as pd\n",
        "df = pd.read_csv('pokemon_data.csv')\n",
        "\n",
        "print(df.loc[df['Type 1'] == 'Grass'])"
      ],
      "execution_count": null,
      "outputs": [
        {
          "output_type": "stream",
          "text": [
            "       #                   Name Type 1  ... Speed  Generation  Legendary\n",
            "0      1              Bulbasaur  Grass  ...    45           1      False\n",
            "1      2                Ivysaur  Grass  ...    60           1      False\n",
            "2      3               Venusaur  Grass  ...    80           1      False\n",
            "3      3  VenusaurMega Venusaur  Grass  ...    80           1      False\n",
            "48    43                 Oddish  Grass  ...    30           1      False\n",
            "..   ...                    ...    ...  ...   ...         ...        ...\n",
            "718  650                Chespin  Grass  ...    38           6      False\n",
            "719  651              Quilladin  Grass  ...    57           6      False\n",
            "720  652             Chesnaught  Grass  ...    64           6      False\n",
            "740  672                 Skiddo  Grass  ...    52           6      False\n",
            "741  673                 Gogoat  Grass  ...    68           6      False\n",
            "\n",
            "[70 rows x 12 columns]\n"
          ],
          "name": "stdout"
        }
      ]
    },
    {
      "cell_type": "code",
      "metadata": {
        "id": "CRErQmY_VVMM",
        "colab_type": "code",
        "colab": {
          "base_uri": "https://localhost:8080/",
          "height": 208
        },
        "outputId": "21e36f93-57d0-416c-e05a-6e01b565aa48"
      },
      "source": [
        "import pandas as pd\n",
        "df = pd.read_csv('pokemon_data.csv')\n",
        "\n",
        "print(df.describe())"
      ],
      "execution_count": null,
      "outputs": [
        {
          "output_type": "stream",
          "text": [
            "                #          HP      Attack  ...     Sp. Def       Speed  Generation\n",
            "count  800.000000  800.000000  800.000000  ...  800.000000  800.000000   800.00000\n",
            "mean   362.813750   69.258750   79.001250  ...   71.902500   68.277500     3.32375\n",
            "std    208.343798   25.534669   32.457366  ...   27.828916   29.060474     1.66129\n",
            "min      1.000000    1.000000    5.000000  ...   20.000000    5.000000     1.00000\n",
            "25%    184.750000   50.000000   55.000000  ...   50.000000   45.000000     2.00000\n",
            "50%    364.500000   65.000000   75.000000  ...   70.000000   65.000000     3.00000\n",
            "75%    539.250000   80.000000  100.000000  ...   90.000000   90.000000     5.00000\n",
            "max    721.000000  255.000000  190.000000  ...  230.000000  180.000000     6.00000\n",
            "\n",
            "[8 rows x 8 columns]\n"
          ],
          "name": "stdout"
        }
      ]
    },
    {
      "cell_type": "code",
      "metadata": {
        "id": "KnOxpL2XV0Wz",
        "colab_type": "code",
        "colab": {
          "base_uri": "https://localhost:8080/",
          "height": 260
        },
        "outputId": "eca72628-880d-40d4-ce10-830eda04b5d0"
      },
      "source": [
        "import pandas as pd\n",
        "df = pd.read_csv('pokemon_data.csv')\n",
        "#print(df.sort_values('Name'))\n",
        "print(df.sort_values('Name', ascending=False))"
      ],
      "execution_count": null,
      "outputs": [
        {
          "output_type": "stream",
          "text": [
            "       #                     Name   Type 1  ... Speed  Generation  Legendary\n",
            "794  718         Zygarde50% Forme   Dragon  ...    95           6       True\n",
            "695  634                 Zweilous     Dark  ...    58           5      False\n",
            "46    41                    Zubat   Poison  ...    55           1      False\n",
            "631  570                    Zorua     Dark  ...    65           5      False\n",
            "632  571                  Zoroark     Dark  ...   105           5      False\n",
            "..   ...                      ...      ...  ...   ...         ...        ...\n",
            "393  359          AbsolMega Absol     Dark  ...   115           3      False\n",
            "392  359                    Absol     Dark  ...    75           3      False\n",
            "68    63                     Abra  Psychic  ...    90           1      False\n",
            "511  460  AbomasnowMega Abomasnow    Grass  ...    30           4      False\n",
            "510  460                Abomasnow    Grass  ...    60           4      False\n",
            "\n",
            "[800 rows x 12 columns]\n"
          ],
          "name": "stdout"
        }
      ]
    },
    {
      "cell_type": "markdown",
      "metadata": {
        "id": "byn65qEbY3q6",
        "colab_type": "text"
      },
      "source": [
        "Creating a new column"
      ]
    },
    {
      "cell_type": "code",
      "metadata": {
        "id": "wLHaGOHuXYC0",
        "colab_type": "code",
        "colab": {
          "base_uri": "https://localhost:8080/",
          "height": 156
        },
        "outputId": "41d65275-5fd5-4074-f57b-1e3a2bfbaac4"
      },
      "source": [
        "import pandas as pd\n",
        "df = pd.read_csv('pokemon_data.csv')\n",
        "\n",
        "df['total'] = df['HP']+df['Attack']+df['Defense']+df['Sp. Atk']+df['Sp. Def']+df['Speed']\n",
        "\n",
        "print(df.head(5))"
      ],
      "execution_count": null,
      "outputs": [
        {
          "output_type": "stream",
          "text": [
            "   #                   Name Type 1  Type 2  ...  Speed  Generation  Legendary  total\n",
            "0  1              Bulbasaur  Grass  Poison  ...     45           1      False    318\n",
            "1  2                Ivysaur  Grass  Poison  ...     60           1      False    405\n",
            "2  3               Venusaur  Grass  Poison  ...     80           1      False    525\n",
            "3  3  VenusaurMega Venusaur  Grass  Poison  ...     80           1      False    625\n",
            "4  4             Charmander   Fire     NaN  ...     65           1      False    309\n",
            "\n",
            "[5 rows x 13 columns]\n"
          ],
          "name": "stdout"
        }
      ]
    },
    {
      "cell_type": "code",
      "metadata": {
        "id": "DpAfn5WvZ2Iz",
        "colab_type": "code",
        "colab": {
          "base_uri": "https://localhost:8080/",
          "height": 121
        },
        "outputId": "53a60b87-4c39-461d-eeff-9779967a073c"
      },
      "source": [
        "import pandas as pd\n",
        "df = pd.read_csv('pokemon_data.csv')\n",
        "\n",
        "df['total'] = df.iloc[:,4:10].sum(axis=1)\n",
        "print(df.head(3))"
      ],
      "execution_count": null,
      "outputs": [
        {
          "output_type": "stream",
          "text": [
            "   #       Name Type 1  Type 2  ...  Speed  Generation  Legendary  total\n",
            "0  1  Bulbasaur  Grass  Poison  ...     45           1      False    318\n",
            "1  2    Ivysaur  Grass  Poison  ...     60           1      False    405\n",
            "2  3   Venusaur  Grass  Poison  ...     80           1      False    525\n",
            "\n",
            "[3 rows x 13 columns]\n"
          ],
          "name": "stdout"
        }
      ]
    },
    {
      "cell_type": "markdown",
      "metadata": {
        "id": "Z_UWS1jrY84Z",
        "colab_type": "text"
      },
      "source": [
        "Drop a column"
      ]
    },
    {
      "cell_type": "code",
      "metadata": {
        "id": "EnbB-8JCY8Jm",
        "colab_type": "code",
        "colab": {
          "base_uri": "https://localhost:8080/",
          "height": 173
        },
        "outputId": "935596ea-1021-4434-8bd2-0a583830e31f"
      },
      "source": [
        "import pandas as pd\n",
        "df = pd.read_csv('pokemon_data.csv')\n",
        "\n",
        "df['total'] = df['HP']+df['Attack']+df['Defense']+df['Sp. Atk']+df['Sp. Def']+df['Speed']\n",
        "\n",
        "df = df.drop(columns=['total'])\n",
        "\n",
        "print(df.head(6))\n"
      ],
      "execution_count": null,
      "outputs": [
        {
          "output_type": "stream",
          "text": [
            "   #                   Name Type 1  ... Speed  Generation  Legendary\n",
            "0  1              Bulbasaur  Grass  ...    45           1      False\n",
            "1  2                Ivysaur  Grass  ...    60           1      False\n",
            "2  3               Venusaur  Grass  ...    80           1      False\n",
            "3  3  VenusaurMega Venusaur  Grass  ...    80           1      False\n",
            "4  4             Charmander   Fire  ...    65           1      False\n",
            "5  5             Charmeleon   Fire  ...    80           1      False\n",
            "\n",
            "[6 rows x 12 columns]\n"
          ],
          "name": "stdout"
        }
      ]
    },
    {
      "cell_type": "code",
      "metadata": {
        "id": "fpH-fPtkox3l",
        "colab_type": "code",
        "colab": {}
      },
      "source": [
        "import pandas as pd\n",
        "df = pd.read_csv('pokemon_data.csv')\n",
        "\n",
        "df['total'] = df['HP']+df['Attack']+df['Defense']+df['Sp. Atk']+df['Sp. Def']+df['Speed']\n",
        "df.to_csv('/content/drive/My Drive/Colab Notebooks/new_data.csv')"
      ],
      "execution_count": null,
      "outputs": []
    }
  ]
}