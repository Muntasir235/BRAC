{
  "nbformat": 4,
  "nbformat_minor": 0,
  "metadata": {
    "colab": {
      "name": "Edit Distance.ipynb",
      "provenance": [],
      "authorship_tag": "ABX9TyMnA1eGRY2uj2koiKZ4259t",
      "include_colab_link": true
    },
    "kernelspec": {
      "name": "python3",
      "display_name": "Python 3"
    }
  },
  "cells": [
    {
      "cell_type": "markdown",
      "metadata": {
        "id": "view-in-github",
        "colab_type": "text"
      },
      "source": [
        "<a href=\"https://colab.research.google.com/github/Sakibapon/BRAC/blob/master/CSE/CSE431/Edit_Distance.ipynb\" target=\"_parent\"><img src=\"https://colab.research.google.com/assets/colab-badge.svg\" alt=\"Open In Colab\"/></a>"
      ]
    },
    {
      "cell_type": "code",
      "metadata": {
        "id": "veHT1Q3WMTNj",
        "outputId": "e7d65984-3550-4d68-b70d-150454a02466",
        "colab": {
          "base_uri": "https://localhost:8080/",
          "height": 367
        }
      },
      "source": [
        "import Levenshtein\n",
        "import numpy as np\n",
        "import random\n",
        "import string\n",
        "\n",
        "\n",
        "## Algorithm -------------------------------------------------------------------\n",
        "\n",
        "\n",
        "def edit_distance(s, t):\n",
        "    \"\"\"Edit distance of strings s and t. O(len(s) * len(t)). Prime example of a\n",
        "    dynamic programming algorithm. To compute, we divide the problem into\n",
        "    overlapping subproblems of the edit distance between prefixes of s and t,\n",
        "    and compute a matrix of edit distances based on the cost of insertions,\n",
        "    deletions, matches and mismatches.\n",
        "    \"\"\"\n",
        "    prefix_matrix = np.zeros((len(s) + 1, len(t) + 1))\n",
        "    prefix_matrix[:, 0] = list(range(len(s) + 1))\n",
        "    prefix_matrix[0, :] = list(range(len(t) + 1))\n",
        "    for i in range(1, len(s) + 1):\n",
        "        for j in range(1, len(t) + 1):\n",
        "            insertion = prefix_matrix[i, j - 1] + 1\n",
        "            deletion = prefix_matrix[i - 1, j] + 1\n",
        "            match = prefix_matrix[i - 1, j - 1]\n",
        "            if s[i - 1] != t[j - 1]:\n",
        "                match += 1  # -- mismatch\n",
        "            prefix_matrix[i, j] = min(insertion, deletion, match)\n",
        "    return int(prefix_matrix[i, j])\n",
        "\n",
        "\n",
        "## Ensure that the algorithm was correctly implemented --------------------------\n",
        "\n",
        "\n",
        "def id_generator(size, chars=string.ascii_uppercase + string.digits):\n",
        "    \"\"\"Randomly generate an 'id' of characters and digits, taken from\n",
        "    StackOverFlow question #2257441.\n",
        "    \"\"\"\n",
        "    return ''.join(random.choice(chars) for _ in range(size))\n",
        "\n",
        "\n",
        "def generate_random_string(min=1, max=20):\n",
        "    \"\"\"Generate a random 'id' string of a random length\n",
        "    \"\"\"\n",
        "    size = random.randint(min, max)\n",
        "    return id_generator(size)\n",
        "    \n",
        "\n",
        "# Generate random strings\n",
        "random.seed(100)\n",
        "random_strings1 = [generate_random_string() for _ in range(1000)]\n",
        "random_strings2 = [generate_random_string() for _ in range(1000)]\n",
        "\n",
        "# Compute edit distances using my function, and Levenshtein.distance\n",
        "edit_distances_jake = [edit_distance(a, b) for a, b in \n",
        "                       zip(random_strings1, random_strings2)]\n",
        "edit_distances_lev = [Levenshtein.distance(a, b) for a, b in \n",
        "                      zip(random_strings1, random_strings2)]\n",
        "\n",
        "# Are the edit distances the same?\n",
        "edit_distances_jake == edit_distances_lev\n",
        "print(a)"
      ],
      "execution_count": 1,
      "outputs": [
        {
          "output_type": "error",
          "ename": "ModuleNotFoundError",
          "evalue": "ignored",
          "traceback": [
            "\u001b[0;31m---------------------------------------------------------------------------\u001b[0m",
            "\u001b[0;31mModuleNotFoundError\u001b[0m                       Traceback (most recent call last)",
            "\u001b[0;32m<ipython-input-1-2033ad157daa>\u001b[0m in \u001b[0;36m<module>\u001b[0;34m()\u001b[0m\n\u001b[0;32m----> 1\u001b[0;31m \u001b[0;32mimport\u001b[0m \u001b[0mLevenshtein\u001b[0m\u001b[0;34m\u001b[0m\u001b[0;34m\u001b[0m\u001b[0m\n\u001b[0m\u001b[1;32m      2\u001b[0m \u001b[0;32mimport\u001b[0m \u001b[0mnumpy\u001b[0m \u001b[0;32mas\u001b[0m \u001b[0mnp\u001b[0m\u001b[0;34m\u001b[0m\u001b[0;34m\u001b[0m\u001b[0m\n\u001b[1;32m      3\u001b[0m \u001b[0;32mimport\u001b[0m \u001b[0mrandom\u001b[0m\u001b[0;34m\u001b[0m\u001b[0;34m\u001b[0m\u001b[0m\n\u001b[1;32m      4\u001b[0m \u001b[0;32mimport\u001b[0m \u001b[0mstring\u001b[0m\u001b[0;34m\u001b[0m\u001b[0;34m\u001b[0m\u001b[0m\n\u001b[1;32m      5\u001b[0m \u001b[0;34m\u001b[0m\u001b[0m\n",
            "\u001b[0;31mModuleNotFoundError\u001b[0m: No module named 'Levenshtein'",
            "",
            "\u001b[0;31m---------------------------------------------------------------------------\u001b[0;32m\nNOTE: If your import is failing due to a missing package, you can\nmanually install dependencies using either !pip or !apt.\n\nTo view examples of installing some common dependencies, click the\n\"Open Examples\" button below.\n\u001b[0;31m---------------------------------------------------------------------------\u001b[0m\n"
          ]
        }
      ]
    },
    {
      "cell_type": "code",
      "metadata": {
        "id": "7B2UPYBCMbjZ",
        "outputId": "1e2b692d-9e7c-4f2e-8b24-bfbf029b0aca",
        "colab": {
          "base_uri": "https://localhost:8080/"
        }
      },
      "source": [
        "pip install python-Levenshtein\n"
      ],
      "execution_count": 2,
      "outputs": [
        {
          "output_type": "stream",
          "text": [
            "Collecting python-Levenshtein\n",
            "\u001b[?25l  Downloading https://files.pythonhosted.org/packages/42/a9/d1785c85ebf9b7dfacd08938dd028209c34a0ea3b1bcdb895208bd40a67d/python-Levenshtein-0.12.0.tar.gz (48kB)\n",
            "\r\u001b[K     |██████▊                         | 10kB 11.1MB/s eta 0:00:01\r\u001b[K     |█████████████▌                  | 20kB 15.4MB/s eta 0:00:01\r\u001b[K     |████████████████████▏           | 30kB 9.0MB/s eta 0:00:01\r\u001b[K     |███████████████████████████     | 40kB 8.3MB/s eta 0:00:01\r\u001b[K     |████████████████████████████████| 51kB 2.4MB/s \n",
            "\u001b[?25hRequirement already satisfied: setuptools in /usr/local/lib/python3.6/dist-packages (from python-Levenshtein) (50.3.2)\n",
            "Building wheels for collected packages: python-Levenshtein\n",
            "  Building wheel for python-Levenshtein (setup.py) ... \u001b[?25l\u001b[?25hdone\n",
            "  Created wheel for python-Levenshtein: filename=python_Levenshtein-0.12.0-cp36-cp36m-linux_x86_64.whl size=144788 sha256=0cd8b64e15553a802f4e5b788ec522d2817cecef36d9cd5cb275c62c1821f0bd\n",
            "  Stored in directory: /root/.cache/pip/wheels/de/c2/93/660fd5f7559049268ad2dc6d81c4e39e9e36518766eaf7e342\n",
            "Successfully built python-Levenshtein\n",
            "Installing collected packages: python-Levenshtein\n",
            "Successfully installed python-Levenshtein-0.12.0\n"
          ],
          "name": "stdout"
        }
      ]
    },
    {
      "cell_type": "code",
      "metadata": {
        "id": "_wcN3DYzM0mx",
        "outputId": "d388580e-c958-4f2f-e883-09e6b0edd68a",
        "colab": {
          "base_uri": "https://localhost:8080/"
        }
      },
      "source": [
        "import Levenshtein\n",
        "import numpy as np\n",
        "import random\n",
        "import string\n",
        "\n",
        "\n",
        "## Algorithm -------------------------------------------------------------------\n",
        "\n",
        "\n",
        "def edit_distance(s, t):\n",
        "    \"\"\"Edit distance of strings s and t. O(len(s) * len(t)). Prime example of a\n",
        "    dynamic programming algorithm. To compute, we divide the problem into\n",
        "    overlapping subproblems of the edit distance between prefixes of s and t,\n",
        "    and compute a matrix of edit distances based on the cost of insertions,\n",
        "    deletions, matches and mismatches.\n",
        "    \"\"\"\n",
        "    prefix_matrix = np.zeros((len(s) + 1, len(t) + 1))\n",
        "    prefix_matrix[:, 0] = list(range(len(s) + 1))\n",
        "    prefix_matrix[0, :] = list(range(len(t) + 1))\n",
        "    for i in range(1, len(s) + 1):\n",
        "        for j in range(1, len(t) + 1):\n",
        "            insertion = prefix_matrix[i, j - 1] + 1\n",
        "            deletion = prefix_matrix[i - 1, j] + 1\n",
        "            match = prefix_matrix[i - 1, j - 1]\n",
        "            if s[i - 1] != t[j - 1]:\n",
        "                match += 1  # -- mismatch\n",
        "            prefix_matrix[i, j] = min(insertion, deletion, match)\n",
        "    return int(prefix_matrix[i, j])\n",
        "\n",
        "\n",
        "## Ensure that the algorithm was correctly implemented --------------------------\n",
        "\n",
        "\n",
        "def id_generator(size, chars=string.ascii_uppercase + string.digits):\n",
        "    \"\"\"Randomly generate an 'id' of characters and digits, taken from\n",
        "    StackOverFlow question #2257441.\n",
        "    \"\"\"\n",
        "    return ''.join(random.choice(chars) for _ in range(size))\n",
        "\n",
        "\n",
        "def generate_random_string(min=1, max=20):\n",
        "    \"\"\"Generate a random 'id' string of a random length\n",
        "    \"\"\"\n",
        "    size = random.randint(min, max)\n",
        "    return id_generator(size)\n",
        "    \n",
        "\n",
        "# Generate random strings\n",
        "random.seed(100)\n",
        "random_strings1 = [generate_random_string() for _ in range(1000)]\n",
        "random_strings2 = [generate_random_string() for _ in range(1000)]\n",
        "\n",
        "# Compute edit distances using my function, and Levenshtein.distance\n",
        "edit_distances_jake = [edit_distance(a, b) for a, b in \n",
        "                       zip(random_strings1, random_strings2)]\n",
        "edit_distances_lev = [Levenshtein.distance(a, b) for a, b in \n",
        "                      zip(random_strings1, random_strings2)]\n",
        "\n",
        "# Are the edit distances the same?\n",
        "edit_distances_jake == edit_distances_lev\n",
        "print('a')\n"
      ],
      "execution_count": 4,
      "outputs": [
        {
          "output_type": "stream",
          "text": [
            "a\n"
          ],
          "name": "stdout"
        }
      ]
    }
  ]
}